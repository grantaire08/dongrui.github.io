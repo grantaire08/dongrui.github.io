{
 "cells": [
  {
   "cell_type": "markdown",
   "metadata": {},
   "source": [
    "# Talks markdown generator for academicpages\n",
    "\n",
    "Takes a TSV of talks with metadata and converts them for use with [academicpages.github.io](academicpages.github.io). This is an interactive Jupyter notebook ([see more info here](http://jupyter-notebook-beginner-guide.readthedocs.io/en/latest/what_is_jupyter.html)). The core python code is also in `talks.py`. Run either from the `markdown_generator` folder after replacing `talks.tsv` with one containing your data.\n",
    "\n",
    "TODO: Make this work with BibTex and other databases, rather than Stuart's non-standard TSV format and citation style."
   ]
  },
  {
   "cell_type": "code",
   "execution_count": 34,
   "metadata": {},
   "outputs": [],
   "source": [
    "import pandas as pd\n",
    "import os"
   ]
  },
  {
   "cell_type": "markdown",
   "metadata": {},
   "source": [
    "## Data format\n",
    "\n",
    "The TSV needs to have the following columns: title, type, url_slug, venue, date, location, talk_url, description, with a header at the top. Many of these fields can be blank, but the columns must be in the TSV.\n",
    "\n",
    "- Fields that cannot be blank: `title`, `url_slug`, `date`. All else can be blank. `type` defaults to \"Talk\" \n",
    "- `date` must be formatted as YYYY-MM-DD.\n",
    "- `url_slug` will be the descriptive part of the .md file and the permalink URL for the page about the paper. \n",
    "    - The .md file will be `YYYY-MM-DD-[url_slug].md` and the permalink will be `https://[yourdomain]/talks/YYYY-MM-DD-[url_slug]`\n",
    "    - The combination of `url_slug` and `date` must be unique, as it will be the basis for your filenames\n",
    "\n",
    "This is how the raw file looks (it doesn't look pretty, use a spreadsheet or other program to edit and create)."
   ]
  },
  {
   "cell_type": "code",
   "execution_count": 35,
   "metadata": {},
   "outputs": [
    {
     "name": "stdout",
     "output_type": "stream",
     "text": [
      "title\ttype\turl_slug\tvenue\tdate_start\tdate_end\tproj_url\tdescription\r\n",
      "Rational solutions to an extended KP-like equation with symbolic computation\tCourse project\tproj01\t\"Beihang University, School of Mathematical Science\"\t2019-10\t2019-12\thttp://grantaire08.github.io/files/rational_solu_pre.pdf\tAn introduction to the Hirota bilinear method. Propose an extended KP-like equation with the generalized bilinear operators and discuss rational solutions based on polynomial solutions to the generalized bilinear equation.\r\n",
      "Bernstein type problem for minimal hypersurfaces\tUndergraduate dissertation\tproj02\t\"Beihang University, School of Mathematical Science\"\t2020-02\t2020-05\thttp://grantaire08.github.io/files/BernsteinProblem.pdf\t\"Introduce the value distribution problem of Gauss map of minimal surfaces in Euclidean space and present major contributions by Osserman,Xavier and Fujimoto.\"\r\n",
      "Individual seminar report: Off-the-grid sparse regularization\tResearch training\tproj03\t\"University of Edinburgh, School of Mathematics\"\t\t2020-11\thttp://grantaire08.github.io/files/isr.pdf\t\"Get an overview on Clarice Poon’s seminar on Off-the-grid sparse estimation, which focuses on the theoretical analysis of the stability of the Beurling-Lasso method.\"\r\n",
      "Regression models in JAGS\tCourse project\tproj04\t\"University of Edinburgh, School of Mathematics\"\t2020-11\t2020-12\thttp://grantaire08.github.io/files/stasprog_proj2\t\"Compare three Bayesian models by implementing the models in JAGS, having JAGS sample from the corresponding posterior densities, and then using the deviance information criterion, DIC, for model comparison.\"\r\n",
      "Review of “New error bounds for deep ReLU networks using sparse grids” \tCourse project\tproj05\t\"University of Edinburgh, School of Mathematics\"\t\t2021-03\thttp://grantaire08.github.io/files/rscam_review.pdf\t\"This is a paper aims to address the problem, why and when deep networks can lessen or break the curse of dimensionality. Instead of focusing on a particular set of functions which have a very special structure, they consider functions in the Korobov spaces which is more general for high dimensional multivariate approximation.\"\r\n",
      "Modeling soccer scores by integrated nested Laplace approximation\tMaster dissertation\tproj06\t\"University of Edinburgh, School of Mathematics\"\t2021-02\t2021-08\thttp://grantaire08.github.io/files/MSSbyINLA.pdf\t\"Explore the basic ideas of INLA, and implement several models of increasing complexity for predicting the outcomes of soccer matches.\"\r\n",
      "Expectation propagation in linear regression models\tResearch training\tproj07\t\"Heriot-Watt University, School of Engineering and Physical Sciences\"\t\t2021-09\t\t\"Learn the basics of variational methods, including VB (MFVB and FFVB) and EP (parallel EP, AEP, SEP and α-EP) methods. Compare different variational methods in linear regression model. Explore the algorithm design with different problem-specific convariance constraints.\""
     ]
    }
   ],
   "source": [
    "!cat projs.tsv"
   ]
  },
  {
   "cell_type": "markdown",
   "metadata": {},
   "source": [
    "## Import TSV\n",
    "\n",
    "Pandas makes this easy with the read_csv function. We are using a TSV, so we specify the separator as a tab, or `\\t`.\n",
    "\n",
    "I found it important to put this data in a tab-separated values format, because there are a lot of commas in this kind of data and comma-separated values can get messed up. However, you can modify the import statement, as pandas also has read_excel(), read_json(), and others."
   ]
  },
  {
   "cell_type": "code",
   "execution_count": 36,
   "metadata": {},
   "outputs": [
    {
     "data": {
      "text/html": [
       "<div>\n",
       "<style scoped>\n",
       "    .dataframe tbody tr th:only-of-type {\n",
       "        vertical-align: middle;\n",
       "    }\n",
       "\n",
       "    .dataframe tbody tr th {\n",
       "        vertical-align: top;\n",
       "    }\n",
       "\n",
       "    .dataframe thead th {\n",
       "        text-align: right;\n",
       "    }\n",
       "</style>\n",
       "<table border=\"1\" class=\"dataframe\">\n",
       "  <thead>\n",
       "    <tr style=\"text-align: right;\">\n",
       "      <th></th>\n",
       "      <th>title</th>\n",
       "      <th>type</th>\n",
       "      <th>url_slug</th>\n",
       "      <th>venue</th>\n",
       "      <th>date_start</th>\n",
       "      <th>date_end</th>\n",
       "      <th>proj_url</th>\n",
       "      <th>description</th>\n",
       "    </tr>\n",
       "  </thead>\n",
       "  <tbody>\n",
       "    <tr>\n",
       "      <th>0</th>\n",
       "      <td>Rational solutions to an extended KP-like equa...</td>\n",
       "      <td>Course project</td>\n",
       "      <td>proj01</td>\n",
       "      <td>Beihang University, School of Mathematical Sci...</td>\n",
       "      <td>2019-10</td>\n",
       "      <td>2019-12</td>\n",
       "      <td>http://grantaire08.github.io/files/rational_so...</td>\n",
       "      <td>An introduction to the Hirota bilinear method....</td>\n",
       "    </tr>\n",
       "    <tr>\n",
       "      <th>1</th>\n",
       "      <td>Bernstein type problem for minimal hypersurfaces</td>\n",
       "      <td>Undergraduate dissertation</td>\n",
       "      <td>proj02</td>\n",
       "      <td>Beihang University, School of Mathematical Sci...</td>\n",
       "      <td>2020-02</td>\n",
       "      <td>2020-05</td>\n",
       "      <td>http://grantaire08.github.io/files/BernsteinPr...</td>\n",
       "      <td>Introduce the value distribution problem of Ga...</td>\n",
       "    </tr>\n",
       "    <tr>\n",
       "      <th>2</th>\n",
       "      <td>Individual seminar report: Off-the-grid sparse...</td>\n",
       "      <td>Research training</td>\n",
       "      <td>proj03</td>\n",
       "      <td>University of Edinburgh, School of Mathematics</td>\n",
       "      <td>NaN</td>\n",
       "      <td>2020-11</td>\n",
       "      <td>http://grantaire08.github.io/files/isr.pdf</td>\n",
       "      <td>Get an overview on Clarice Poon’s seminar on O...</td>\n",
       "    </tr>\n",
       "    <tr>\n",
       "      <th>3</th>\n",
       "      <td>Regression models in JAGS</td>\n",
       "      <td>Course project</td>\n",
       "      <td>proj04</td>\n",
       "      <td>University of Edinburgh, School of Mathematics</td>\n",
       "      <td>2020-11</td>\n",
       "      <td>2020-12</td>\n",
       "      <td>http://grantaire08.github.io/files/stasprog_proj2</td>\n",
       "      <td>Compare three Bayesian models by implementing ...</td>\n",
       "    </tr>\n",
       "    <tr>\n",
       "      <th>4</th>\n",
       "      <td>Review of “New error bounds for deep ReLU netw...</td>\n",
       "      <td>Course project</td>\n",
       "      <td>proj05</td>\n",
       "      <td>University of Edinburgh, School of Mathematics</td>\n",
       "      <td>NaN</td>\n",
       "      <td>2021-03</td>\n",
       "      <td>http://grantaire08.github.io/files/rscam_revie...</td>\n",
       "      <td>This is a paper aims to address the problem, w...</td>\n",
       "    </tr>\n",
       "    <tr>\n",
       "      <th>5</th>\n",
       "      <td>Modeling soccer scores by integrated nested La...</td>\n",
       "      <td>Master dissertation</td>\n",
       "      <td>proj06</td>\n",
       "      <td>University of Edinburgh, School of Mathematics</td>\n",
       "      <td>2021-02</td>\n",
       "      <td>2021-08</td>\n",
       "      <td>http://grantaire08.github.io/files/MSSbyINLA.pdf</td>\n",
       "      <td>Explore the basic ideas of INLA, and implement...</td>\n",
       "    </tr>\n",
       "    <tr>\n",
       "      <th>6</th>\n",
       "      <td>Expectation propagation in linear regression m...</td>\n",
       "      <td>Research training</td>\n",
       "      <td>proj07</td>\n",
       "      <td>Heriot-Watt University, School of Engineering ...</td>\n",
       "      <td>NaN</td>\n",
       "      <td>2021-09</td>\n",
       "      <td>NaN</td>\n",
       "      <td>Learn the basics of variational methods, inclu...</td>\n",
       "    </tr>\n",
       "  </tbody>\n",
       "</table>\n",
       "</div>"
      ],
      "text/plain": [
       "                                               title  \\\n",
       "0  Rational solutions to an extended KP-like equa...   \n",
       "1   Bernstein type problem for minimal hypersurfaces   \n",
       "2  Individual seminar report: Off-the-grid sparse...   \n",
       "3                          Regression models in JAGS   \n",
       "4  Review of “New error bounds for deep ReLU netw...   \n",
       "5  Modeling soccer scores by integrated nested La...   \n",
       "6  Expectation propagation in linear regression m...   \n",
       "\n",
       "                         type url_slug  \\\n",
       "0              Course project   proj01   \n",
       "1  Undergraduate dissertation   proj02   \n",
       "2           Research training   proj03   \n",
       "3              Course project   proj04   \n",
       "4              Course project   proj05   \n",
       "5         Master dissertation   proj06   \n",
       "6           Research training   proj07   \n",
       "\n",
       "                                               venue date_start date_end  \\\n",
       "0  Beihang University, School of Mathematical Sci...    2019-10  2019-12   \n",
       "1  Beihang University, School of Mathematical Sci...    2020-02  2020-05   \n",
       "2     University of Edinburgh, School of Mathematics        NaN  2020-11   \n",
       "3     University of Edinburgh, School of Mathematics    2020-11  2020-12   \n",
       "4     University of Edinburgh, School of Mathematics        NaN  2021-03   \n",
       "5     University of Edinburgh, School of Mathematics    2021-02  2021-08   \n",
       "6  Heriot-Watt University, School of Engineering ...        NaN  2021-09   \n",
       "\n",
       "                                            proj_url  \\\n",
       "0  http://grantaire08.github.io/files/rational_so...   \n",
       "1  http://grantaire08.github.io/files/BernsteinPr...   \n",
       "2         http://grantaire08.github.io/files/isr.pdf   \n",
       "3  http://grantaire08.github.io/files/stasprog_proj2   \n",
       "4  http://grantaire08.github.io/files/rscam_revie...   \n",
       "5   http://grantaire08.github.io/files/MSSbyINLA.pdf   \n",
       "6                                                NaN   \n",
       "\n",
       "                                         description  \n",
       "0  An introduction to the Hirota bilinear method....  \n",
       "1  Introduce the value distribution problem of Ga...  \n",
       "2  Get an overview on Clarice Poon’s seminar on O...  \n",
       "3  Compare three Bayesian models by implementing ...  \n",
       "4  This is a paper aims to address the problem, w...  \n",
       "5  Explore the basic ideas of INLA, and implement...  \n",
       "6  Learn the basics of variational methods, inclu...  "
      ]
     },
     "execution_count": 36,
     "metadata": {},
     "output_type": "execute_result"
    }
   ],
   "source": [
    "projs = pd.read_csv(\"projs.tsv\", sep=\"\\t\", header=0)\n",
    "projs"
   ]
  },
  {
   "cell_type": "markdown",
   "metadata": {},
   "source": [
    "## Escape special characters\n",
    "\n",
    "YAML is very picky about how it takes a valid string, so we are replacing single and double quotes (and ampersands) with their HTML encoded equivilents. This makes them look not so readable in raw format, but they are parsed and rendered nicely."
   ]
  },
  {
   "cell_type": "code",
   "execution_count": 37,
   "metadata": {},
   "outputs": [],
   "source": [
    "html_escape_table = {\n",
    "    \"&\": \"&amp;\",\n",
    "    '\"': \"&quot;\",\n",
    "    \"'\": \"&apos;\"\n",
    "    }\n",
    "\n",
    "def html_escape(text):\n",
    "    if type(text) is str:\n",
    "        return \"\".join(html_escape_table.get(c,c) for c in text)\n",
    "    else:\n",
    "        return \"False\""
   ]
  },
  {
   "cell_type": "markdown",
   "metadata": {},
   "source": [
    "## Creating the markdown files\n",
    "\n",
    "This is where the heavy lifting is done. This loops through all the rows in the TSV dataframe, then starts to concatentate a big string (```md```) that contains the markdown for each type. It does the YAML metadata first, then does the description for the individual page."
   ]
  },
  {
   "cell_type": "code",
   "execution_count": 38,
   "metadata": {},
   "outputs": [],
   "source": [
    "loc_dict = {}\n",
    "\n",
    "for row, item in projs.iterrows():\n",
    "    \n",
    "    md_filename = item.url_slug + \".md\"\n",
    "    html_filename = item.url_slug \n",
    "    \n",
    "    md = \"---\\ntitle: \\\"\"   + item.title + '\"\\n'\n",
    "    md += \"collection: projs\" + \"\\n\"\n",
    "    \n",
    "    if len(str(item.type)) > 3:\n",
    "        md += 'type: \"' + item.type + '\"\\n'\n",
    "    else:\n",
    "        md += 'type: \"Projections\"\\n'\n",
    "    \n",
    "    md += \"permalink: /projs/\" + html_filename + \"\\n\"\n",
    "    \n",
    "    if len(str(item.venue)) > 3:\n",
    "        md += 'venue: \"' + item.venue + '\"\\n'\n",
    "        \n",
    "    if len(str(item.date_end)) > 3 and len(str(item.date_start)) > 3:\n",
    "        md += \"time: \" + \"from \" + str(item.date_start) + \" to \" + str(item.date_end) + \"\\n\"\n",
    "    elif len(str(item.date_end)) > 3:\n",
    "        md += \"time: \" + str(item.date_end) + \"\\n\"\n",
    "    \n",
    "#     if len(str(item.location)) > 3:\n",
    "#         md += 'location: \"' + str(item.location) + '\"\\n'\n",
    "           \n",
    "    md += \"---\\n\"\n",
    "    \n",
    "    \n",
    "    if len(str(item.description)) > 3:\n",
    "        md += \"\\n\" + html_escape(item.description) + \"\\n\"\n",
    "    \n",
    "    if len(str(item.proj_url)) > 3:\n",
    "        md += \"\\n[More information here](\" + item.proj_url + \")\\n\" \n",
    "        \n",
    "    md_filename = os.path.basename(md_filename)\n",
    "    #print(md)\n",
    "    \n",
    "    with open(\"../_projs/\" + md_filename, 'w') as f:\n",
    "        f.write(md)"
   ]
  },
  {
   "cell_type": "markdown",
   "metadata": {},
   "source": [
    "These files are in the talks directory, one directory below where we're working from."
   ]
  },
  {
   "cell_type": "code",
   "execution_count": 39,
   "metadata": {},
   "outputs": [
    {
     "name": "stdout",
     "output_type": "stream",
     "text": [
      "proj01.md proj02.md proj03.md proj04.md proj05.md proj06.md proj07.md proj08.md\r\n"
     ]
    }
   ],
   "source": [
    "!ls ../_projs"
   ]
  },
  {
   "cell_type": "code",
   "execution_count": 40,
   "metadata": {},
   "outputs": [
    {
     "name": "stdout",
     "output_type": "stream",
     "text": [
      "---\r\n",
      "title: \"Rational solutions to an extended KP-like equation with symbolic computation\"\r\n",
      "collection: projs\r\n",
      "type: \"Course project\"\r\n",
      "permalink: /projs/proj01\r\n",
      "venue: \"Beihang University, School of Mathematical Science\"\r\n",
      "time: from 2019-10 to 2019-12\r\n",
      "---\r\n",
      "\r\n",
      "An introduction to the Hirota bilinear method. Propose an extended KP-like equation with the generalized bilinear operators and discuss rational solutions based on polynomial solutions to the generalized bilinear equation.\r\n",
      "\r\n",
      "[More information here](http://grantaire08.github.io/files/rational_solu_pre.pdf)\r\n"
     ]
    }
   ],
   "source": [
    "!cat ../_projs/proj01.md"
   ]
  },
  {
   "cell_type": "code",
   "execution_count": null,
   "metadata": {},
   "outputs": [],
   "source": []
  }
 ],
 "metadata": {
  "kernelspec": {
   "display_name": "Python 3",
   "language": "python",
   "name": "python3"
  },
  "language_info": {
   "codemirror_mode": {
    "name": "ipython",
    "version": 3
   },
   "file_extension": ".py",
   "mimetype": "text/x-python",
   "name": "python",
   "nbconvert_exporter": "python",
   "pygments_lexer": "ipython3",
   "version": "3.8.5"
  }
 },
 "nbformat": 4,
 "nbformat_minor": 1
}
